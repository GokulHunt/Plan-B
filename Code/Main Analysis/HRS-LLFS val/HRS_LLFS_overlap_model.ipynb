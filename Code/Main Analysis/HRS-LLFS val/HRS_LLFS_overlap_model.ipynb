{
 "cells": [
  {
   "cell_type": "code",
   "execution_count": 15,
   "id": "cultural-cornwall",
   "metadata": {},
   "outputs": [],
   "source": [
    "import pyreadstat\n",
    "import numpy as np\n",
    "import pandas as pd\n",
    "import seaborn as sns\n",
    "import matplotlib.pyplot as plt\n",
    "import matplotlib.lines as mlines\n",
    "\n",
    "from sklearn.manifold import TSNE\n",
    "from sklearn.model_selection import train_test_split\n",
    "from sklearn.preprocessing import StandardScaler, RobustScaler, LabelEncoder\n",
    "from sklearn.metrics import precision_score, recall_score, f1_score, accuracy_score, classification_report, roc_curve, roc_auc_score, auc, confusion_matrix\n",
    "\n",
    "import statsmodels.api as sm\n",
    "import statsmodels.formula.api as smf\n",
    "\n",
    "import torch\n",
    "import torch.nn as nn\n",
    "import torch.optim as optim\n",
    "\n",
    "import importlib\n",
    "import modular_model\n",
    "\n",
    "# Reload the module\n",
    "importlib.reload(modular_model)\n",
    "\n",
    "# loading our deep neural network model which accounts for common coexpression modular structure\n",
    "from modular_model import CombinedNetwork"
   ]
  },
  {
   "cell_type": "code",
   "execution_count": 3,
   "id": "ahead-boxing",
   "metadata": {},
   "outputs": [
    {
     "data": {
      "text/plain": [
       "(1302, 18163)"
      ]
     },
     "execution_count": 3,
     "metadata": {},
     "output_type": "execute_result"
    }
   ],
   "source": [
    "# Loading the LLFS dataset\n",
    "LLFS_df = pd.read_csv('/panfs/jay/groups/21/thyagara/sesha059/Plan B/New/LLFS part/LLFS_planB_data.csv')\n",
    "LLFS_df.shape"
   ]
  },
  {
   "cell_type": "code",
   "execution_count": null,
   "id": "positive-pride",
   "metadata": {},
   "outputs": [
    {
     "data": {
      "text/plain": [
       "mod_color\n",
       "blue     1066\n",
       "brown     459\n",
       "black     248\n",
       "pink      193\n",
       "Name: count, dtype: int64"
      ]
     },
     "execution_count": 4,
     "metadata": {},
     "output_type": "execute_result"
    }
   ],
   "source": [
    "# common coexpression modules from group lasso\n",
    "common_modules = pd.read_csv('/panfs/jay/groups/21/thyagara/sesha059/Plan B/New/cpm3/common_modules.csv')\n",
    "\n",
    "# finding overlapping genes\n",
    "common_modules2 = common_modules.loc[common_modules['gene_id'].isin(LLFS_df.columns), :]\n",
    "common_modules2['mod_color'].value_counts()"
   ]
  },
  {
   "cell_type": "code",
   "execution_count": null,
   "id": "equipped-contemporary",
   "metadata": {},
   "outputs": [
    {
     "data": {
      "text/plain": [
       "(3435, 4706)"
      ]
     },
     "execution_count": 5,
     "metadata": {},
     "output_type": "execute_result"
    }
   ],
   "source": [
    "# reading the dataset with CMV significant genes\n",
    "CMV_clonotypes_data = pd.read_csv('/panfs/jay/groups/21/thyagara/sesha059/Plan B/New/cpm3/final_dataset.csv')\n",
    "CMV_clonotypes_data.shape"
   ]
  },
  {
   "cell_type": "code",
   "execution_count": 6,
   "id": "unlike-coast",
   "metadata": {},
   "outputs": [],
   "source": [
    "# scaling and normalization\n",
    "clipper = RobustScaler()\n",
    "scaler = StandardScaler()\n",
    "\n",
    "temp = clipper.fit_transform(CMV_clonotypes_data[common_modules2['gene_id']])\n",
    "CMV_clonotypes_data[common_modules2['gene_id']] = scaler.fit_transform(temp)"
   ]
  },
  {
   "cell_type": "code",
   "execution_count": 7,
   "id": "restricted-dubai",
   "metadata": {},
   "outputs": [
    {
     "name": "stdout",
     "output_type": "stream",
     "text": [
      "Train set size: 2061\n",
      "Train set size: 1374\n"
     ]
    }
   ],
   "source": [
    "# sklearn train-test split\n",
    "train_set, test_set = train_test_split(CMV_clonotypes_data, test_size=0.4, random_state=42, stratify=CMV_clonotypes_data['mortality'])\n",
    "\n",
    "print(\"Train set size:\", train_set.shape[0])\n",
    "print(\"Train set size:\", test_set.shape[0])\n",
    "\n",
    "X_train = train_set[common_modules2['gene_id']]\n",
    "y_train = train_set[['mortality']]\n",
    "X_test = test_set[common_modules2['gene_id']]\n",
    "y_test = test_set[['mortality']]"
   ]
  },
  {
   "cell_type": "markdown",
   "id": "recent-profit",
   "metadata": {},
   "source": [
    "### Neural-network module with modular structure"
   ]
  },
  {
   "cell_type": "code",
   "execution_count": 19,
   "id": "statistical-pennsylvania",
   "metadata": {},
   "outputs": [],
   "source": [
    "# Instantiating the model from the file modular_model.py\n",
    "model = CombinedNetwork(input_dim1 = 1066, input_dim2 = 459, input_dim3 = 248, input_dim4 = 193)\n",
    "\n",
    "# Input tensors\n",
    "x1 =  torch.tensor(X_train[common_modules2['gene_id'][common_modules2['mod_color'] == \"blue\"]].to_numpy(), dtype=torch.float32)\n",
    "x2 = torch.tensor(X_train[common_modules2['gene_id'][common_modules2['mod_color'] == \"brown\"]].to_numpy(), dtype=torch.float32)\n",
    "x3 = torch.tensor(X_train[common_modules2['gene_id'][common_modules2['mod_color'] == \"black\"]].to_numpy(), dtype=torch.float32)\n",
    "x4 = torch.tensor(X_train[common_modules2['gene_id'][common_modules2['mod_color'] == \"pink\"]].to_numpy(), dtype=torch.float32)\n",
    "\n",
    "# Forward pass\n",
    "output = model(x1, x2, x3, x4)"
   ]
  },
  {
   "cell_type": "code",
   "execution_count": 20,
   "id": "awful-champion",
   "metadata": {},
   "outputs": [
    {
     "name": "stdout",
     "output_type": "stream",
     "text": [
      "Epoch 0, Loss: 0.5802\n",
      "Epoch 10, Loss: 0.4754\n",
      "Epoch 20, Loss: 0.3846\n",
      "Epoch 30, Loss: 0.3627\n",
      "Epoch 40, Loss: 0.3305\n",
      "Epoch 50, Loss: 0.3040\n",
      "Epoch 60, Loss: 0.2779\n",
      "Epoch 70, Loss: 0.2484\n",
      "Epoch 80, Loss: 0.2090\n",
      "Epoch 90, Loss: 0.1632\n",
      "Epoch 100, Loss: 0.1206\n",
      "Epoch 110, Loss: 0.0851\n",
      "Epoch 120, Loss: 0.0573\n",
      "Epoch 130, Loss: 0.0364\n",
      "Epoch 140, Loss: 0.0231\n",
      "Epoch 150, Loss: 0.0163\n",
      "Epoch 160, Loss: 0.0134\n",
      "Epoch 170, Loss: 0.0106\n",
      "Epoch 180, Loss: 0.0065\n",
      "Epoch 190, Loss: 0.0048\n",
      "Epoch 200, Loss: 0.0042\n",
      "Epoch 210, Loss: 0.0039\n",
      "Epoch 220, Loss: 0.0037\n",
      "Epoch 230, Loss: 0.0035\n",
      "Epoch 240, Loss: 0.0034\n",
      "Epoch 250, Loss: 0.0033\n",
      "Epoch 260, Loss: 0.0033\n",
      "Epoch 270, Loss: 0.0029\n",
      "Epoch 280, Loss: 0.0027\n",
      "Epoch 290, Loss: 0.0026\n",
      "Epoch 300, Loss: 0.0026\n",
      "Epoch 310, Loss: 0.0025\n",
      "Epoch 320, Loss: 0.0024\n",
      "Epoch 330, Loss: 0.0020\n",
      "Epoch 340, Loss: 0.0020\n",
      "Epoch 350, Loss: 0.0019\n",
      "Epoch 360, Loss: 0.0019\n",
      "Epoch 370, Loss: 0.0019\n",
      "Epoch 380, Loss: 0.0019\n",
      "Epoch 390, Loss: 0.0019\n",
      "Epoch 400, Loss: 0.0018\n",
      "Epoch 410, Loss: 0.0018\n",
      "Epoch 420, Loss: 0.0014\n",
      "Epoch 430, Loss: 0.0008\n",
      "Epoch 440, Loss: 0.0007\n",
      "Epoch 450, Loss: 0.0006\n",
      "Epoch 460, Loss: 0.0006\n",
      "Epoch 470, Loss: 0.0006\n",
      "Epoch 480, Loss: 0.0006\n",
      "Epoch 490, Loss: 0.0006\n",
      "Epoch 500, Loss: 0.0006\n",
      "Epoch 510, Loss: 0.0006\n",
      "Epoch 520, Loss: 0.0006\n",
      "Epoch 530, Loss: 0.0006\n",
      "Epoch 540, Loss: 0.0006\n",
      "Epoch 550, Loss: 0.0006\n",
      "Epoch 560, Loss: 0.0006\n",
      "Epoch 570, Loss: 0.0005\n",
      "Epoch 580, Loss: 0.0001\n",
      "Epoch 590, Loss: 0.0001\n",
      "Epoch 600, Loss: 0.0001\n",
      "Epoch 610, Loss: 0.0001\n",
      "Epoch 620, Loss: 0.0000\n",
      "Epoch 630, Loss: 0.0000\n",
      "Epoch 640, Loss: 0.0000\n",
      "Epoch 650, Loss: 0.0000\n",
      "Epoch 660, Loss: 0.0000\n",
      "Epoch 670, Loss: 0.0000\n",
      "Epoch 680, Loss: 0.0000\n",
      "Epoch 690, Loss: 0.0000\n",
      "Epoch 700, Loss: 0.0000\n",
      "Epoch 710, Loss: 0.0000\n",
      "Epoch 720, Loss: 0.0000\n",
      "Epoch 730, Loss: 0.0000\n",
      "Epoch 740, Loss: 0.0000\n",
      "Epoch 750, Loss: 0.0000\n",
      "Epoch 760, Loss: 0.0000\n",
      "Epoch 770, Loss: 0.0000\n",
      "Epoch 780, Loss: 0.0000\n",
      "Epoch 790, Loss: 0.0000\n",
      "Epoch 800, Loss: 0.0000\n",
      "Epoch 810, Loss: 0.0000\n",
      "Epoch 820, Loss: 0.0000\n",
      "Epoch 830, Loss: 0.0000\n",
      "Epoch 840, Loss: 0.0000\n",
      "Epoch 850, Loss: 0.0000\n",
      "Epoch 860, Loss: 0.0000\n",
      "Epoch 870, Loss: 0.0000\n",
      "Epoch 880, Loss: 0.0000\n",
      "Epoch 890, Loss: 0.0000\n",
      "Epoch 900, Loss: 0.0000\n",
      "Epoch 910, Loss: 0.0000\n",
      "Epoch 920, Loss: 0.0000\n",
      "Epoch 930, Loss: 0.0000\n",
      "Epoch 940, Loss: 0.0000\n",
      "Epoch 950, Loss: 0.0000\n",
      "Epoch 960, Loss: 0.0000\n",
      "Epoch 970, Loss: 0.0000\n",
      "Epoch 980, Loss: 0.0000\n",
      "Epoch 990, Loss: 0.0000\n"
     ]
    },
    {
     "data": {
      "image/png": "[encoded data removed]",
      "text/plain": [
       "<Figure size 640x480 with 1 Axes>"
      ]
     },
     "metadata": {},
     "output_type": "display_data"
    }
   ],
   "source": [
    "# Loss Function and optimizer\n",
    "criterion = nn.BCEWithLogitsLoss()  \n",
    "optimizer = optim.Adam(model.parameters(), lr=0.001)\n",
    "\n",
    "# Training Loop\n",
    "losses = []\n",
    "for epoch in range(1000):\n",
    "    optimizer.zero_grad()\n",
    "    output = model(x1, x2, x3, x4)\n",
    "    \n",
    "    # Compute loss\n",
    "    loss = criterion(output[0], torch.tensor(y_train.to_numpy()).float())\n",
    "    \n",
    "    # Backpropagation\n",
    "    loss.backward()\n",
    "    optimizer.step()\n",
    "    \n",
    "    losses.append(loss.item())\n",
    "    \n",
    "    if epoch % 10 == 0:\n",
    "        print(f\"Epoch {epoch}, Loss: {loss.item():.4f}\")\n",
    "        \n",
    "# Plot loss\n",
    "plt.plot(losses)\n",
    "plt.xlabel(\"Epochs\")\n",
    "plt.ylabel(\"Loss\")\n",
    "plt.title(\"Training Loss\")\n",
    "plt.grid(True)\n",
    "plt.show()"
   ]
  },
  {
   "cell_type": "code",
   "execution_count": 37,
   "id": "lesbian-laundry",
   "metadata": {},
   "outputs": [],
   "source": [
    "### Saving the model checkpoint\n",
    "torch.save(model.state_dict(), 'HRS_LLFS_overlap_mod.pt')"
   ]
  },
  {
   "cell_type": "code",
   "execution_count": 21,
   "id": "living-arbitration",
   "metadata": {},
   "outputs": [
    {
     "name": "stderr",
     "output_type": "stream",
     "text": [
      "/tmp/ipykernel_155812/3691260167.py:1: PerformanceWarning: DataFrame is highly fragmented.  This is usually the result of calling `frame.insert` many times, which has poor performance.  Consider joining all columns at once using pd.concat(axis=1) instead. To get a de-fragmented frame, use `newframe = frame.copy()`\n",
      "  train_set['blue_mod'] = output[1].detach().numpy()\n",
      "/tmp/ipykernel_155812/3691260167.py:2: PerformanceWarning: DataFrame is highly fragmented.  This is usually the result of calling `frame.insert` many times, which has poor performance.  Consider joining all columns at once using pd.concat(axis=1) instead. To get a de-fragmented frame, use `newframe = frame.copy()`\n",
      "  train_set['brown_mod'] = output[2].detach().numpy()\n",
      "/tmp/ipykernel_155812/3691260167.py:3: PerformanceWarning: DataFrame is highly fragmented.  This is usually the result of calling `frame.insert` many times, which has poor performance.  Consider joining all columns at once using pd.concat(axis=1) instead. To get a de-fragmented frame, use `newframe = frame.copy()`\n",
      "  train_set['black_mod'] = output[3].detach().numpy()\n",
      "/tmp/ipykernel_155812/3691260167.py:4: PerformanceWarning: DataFrame is highly fragmented.  This is usually the result of calling `frame.insert` many times, which has poor performance.  Consider joining all columns at once using pd.concat(axis=1) instead. To get a de-fragmented frame, use `newframe = frame.copy()`\n",
      "  train_set['pink_mod'] = output[4].detach().numpy()\n"
     ]
    }
   ],
   "source": [
    "train_set['blue_mod'] = output[1].detach().numpy()\n",
    "train_set['brown_mod'] = output[2].detach().numpy()\n",
    "train_set['black_mod'] = output[3].detach().numpy()\n",
    "train_set['pink_mod'] = output[4].detach().numpy()"
   ]
  },
  {
   "cell_type": "markdown",
   "id": "plastic-california",
   "metadata": {},
   "source": [
    "### Model Evaluation"
   ]
  },
  {
   "cell_type": "code",
   "execution_count": 23,
   "id": "fluid-poland",
   "metadata": {},
   "outputs": [],
   "source": [
    "# Input tensors\n",
    "x1_test =  torch.tensor(X_test[common_modules2['gene_id'][common_modules2['mod_color'] == \"blue\"]].to_numpy(), dtype=torch.float32)\n",
    "x2_test =  torch.tensor(X_test[common_modules2['gene_id'][common_modules2['mod_color'] == \"brown\"]].to_numpy(), dtype=torch.float32)\n",
    "x3_test = torch.tensor(X_test[common_modules2['gene_id'][common_modules2['mod_color'] == \"black\"]].to_numpy(), dtype=torch.float32)\n",
    "x4_test = torch.tensor(X_test[common_modules2['gene_id'][common_modules2['mod_color'] == \"pink\"]].to_numpy(), dtype=torch.float32)"
   ]
  },
  {
   "cell_type": "code",
   "execution_count": 6,
   "id": "manufactured-toilet",
   "metadata": {},
   "outputs": [
    {
     "data": {
      "text/plain": [
       "<All keys matched successfully>"
      ]
     },
     "execution_count": 6,
     "metadata": {},
     "output_type": "execute_result"
    }
   ],
   "source": [
    "# loading the model and the trained weights\n",
    "# model = CombinedNetwork(input_dim1 = 1066, input_dim2 = 459, input_dim3 = 248, input_dim4 = 193)\n",
    "# model.load_state_dict(torch.load('HRS_LLFS_overlap_mod.pt'))"
   ]
  },
  {
   "cell_type": "code",
   "execution_count": 24,
   "id": "fourth-consultancy",
   "metadata": {},
   "outputs": [],
   "source": [
    "# setting the model in evaluation mode\n",
    "model.eval()\n",
    "\n",
    "# Make predictions on the validation set\n",
    "with torch.no_grad():\n",
    "    outputs = model(x1_test, x2_test, x3_test, x4_test)\n",
    "    predictions = (torch.sigmoid(outputs[0]) > 0.5).float()  # Convert logits to binary predictions (0 or 1)\n",
    "\n",
    "# Convert predictions and true labels to numpy arrays\n",
    "pred_np = predictions.reshape(1, -1).numpy()[0]  # Flatten predictions to a 1D array\n",
    "labels_np = np.array(y_test)"
   ]
  },
  {
   "cell_type": "code",
   "execution_count": 25,
   "id": "after-conducting",
   "metadata": {},
   "outputs": [
    {
     "name": "stdout",
     "output_type": "stream",
     "text": [
      "              precision    recall  f1-score   support\n",
      "\n",
      "       alive       0.91      0.96      0.93      1220\n",
      "        dead       0.39      0.22      0.28       154\n",
      "\n",
      "    accuracy                           0.87      1374\n",
      "   macro avg       0.65      0.59      0.61      1374\n",
      "weighted avg       0.85      0.87      0.86      1374\n",
      "\n"
     ]
    }
   ],
   "source": [
    "# classification report on the validation dataset\n",
    "print(classification_report(labels_np, pred_np, target_names=['alive', 'dead']))"
   ]
  },
  {
   "cell_type": "code",
   "execution_count": 26,
   "id": "general-police",
   "metadata": {},
   "outputs": [
    {
     "data": {
      "image/png": "[encoded data removed]",
      "text/plain": [
       "<Figure size 640x480 with 1 Axes>"
      ]
     },
     "metadata": {},
     "output_type": "display_data"
    }
   ],
   "source": [
    "# ROC curve using sigmoid probabilities calculated from genetic scores in the test dataset\n",
    "fpr, tpr, threshold = roc_curve(y_test, torch.sigmoid(outputs[0]))\n",
    "roc_auc = auc(fpr, tpr)\n",
    "\n",
    "plt.title('Receiver Operating Characteristic')\n",
    "plt.plot(fpr, tpr, 'b', label = 'AUC = %0.2f' % roc_auc)\n",
    "plt.legend(loc = 'lower right')\n",
    "plt.plot([0, 1], [0, 1],'r--')\n",
    "plt.xlim([0, 1])\n",
    "plt.ylim([0, 1])\n",
    "plt.ylabel('True Positive Rate')\n",
    "plt.xlabel('False Positive Rate')\n",
    "plt.show()"
   ]
  },
  {
   "cell_type": "code",
   "execution_count": 27,
   "id": "commercial-dealer",
   "metadata": {},
   "outputs": [
    {
     "data": {
      "image/png": "[encoded data removed]",
      "text/plain": [
       "<Figure size 640x480 with 1 Axes>"
      ]
     },
     "metadata": {},
     "output_type": "display_data"
    }
   ],
   "source": [
    "# classification scatterplot\n",
    "indep, dep = outputs[0].numpy(), torch.sigmoid(outputs[0]).numpy()\n",
    "fig, ax = plt.subplots()\n",
    "scatter = ax.scatter(indep, dep, c=labels_np)\n",
    "line = mlines.Line2D(indep, [0.5]*len(dep), color='red')\n",
    "transform = ax.transAxes\n",
    "line.set_transform(transform)\n",
    "ax.add_line(line)\n",
    "plt.legend(*scatter.legend_elements())\n",
    "plt.xlabel(\"Genetic Score\")\n",
    "plt.ylabel(\"Probability\")\n",
    "plt.show()"
   ]
  },
  {
   "cell_type": "code",
   "execution_count": 28,
   "id": "approved-sympathy",
   "metadata": {},
   "outputs": [
    {
     "name": "stderr",
     "output_type": "stream",
     "text": [
      "/tmp/ipykernel_155812/1647090890.py:1: PerformanceWarning: DataFrame is highly fragmented.  This is usually the result of calling `frame.insert` many times, which has poor performance.  Consider joining all columns at once using pd.concat(axis=1) instead. To get a de-fragmented frame, use `newframe = frame.copy()`\n",
      "  test_set['blue_mod'] = outputs[1]\n",
      "/tmp/ipykernel_155812/1647090890.py:2: PerformanceWarning: DataFrame is highly fragmented.  This is usually the result of calling `frame.insert` many times, which has poor performance.  Consider joining all columns at once using pd.concat(axis=1) instead. To get a de-fragmented frame, use `newframe = frame.copy()`\n",
      "  test_set['brown_mod'] = outputs[2]\n",
      "/tmp/ipykernel_155812/1647090890.py:3: PerformanceWarning: DataFrame is highly fragmented.  This is usually the result of calling `frame.insert` many times, which has poor performance.  Consider joining all columns at once using pd.concat(axis=1) instead. To get a de-fragmented frame, use `newframe = frame.copy()`\n",
      "  test_set['black_mod'] = outputs[3]\n",
      "/tmp/ipykernel_155812/1647090890.py:4: PerformanceWarning: DataFrame is highly fragmented.  This is usually the result of calling `frame.insert` many times, which has poor performance.  Consider joining all columns at once using pd.concat(axis=1) instead. To get a de-fragmented frame, use `newframe = frame.copy()`\n",
      "  test_set['pink_mod'] = outputs[4]\n"
     ]
    }
   ],
   "source": [
    "test_set['blue_mod'] = outputs[1]\n",
    "test_set['brown_mod'] = outputs[2]\n",
    "test_set['black_mod'] = outputs[3]\n",
    "test_set['pink_mod'] = outputs[4]"
   ]
  },
  {
   "cell_type": "markdown",
   "id": "breeding-concentrate",
   "metadata": {},
   "source": [
    "### Evaluating associations of modules with mortality in the HRS test set"
   ]
  },
  {
   "cell_type": "code",
   "execution_count": 29,
   "id": "lesser-instruction",
   "metadata": {},
   "outputs": [],
   "source": [
    "# transforming the covariates\n",
    "temp = clipper.fit_transform(test_set[['age', 'INFLAM_5', 'comorb_idx', 'BMI', 'Tcells']])\n",
    "test_set[['age', 'INFLAM_5', 'comorb_idx', 'BMI', 'Tcells']] = scaler.fit_transform(temp)"
   ]
  },
  {
   "cell_type": "code",
   "execution_count": 33,
   "id": "regulated-difficulty",
   "metadata": {},
   "outputs": [],
   "source": [
    "temp = clipper.fit_transform(test_set[['blue_mod', 'brown_mod', 'black_mod', 'pink_mod']])\n",
    "test_set[['blue_mod', 'brown_mod', 'black_mod', 'pink_mod']] = scaler.fit_transform(temp)"
   ]
  },
  {
   "cell_type": "code",
   "execution_count": 30,
   "id": "further-seven",
   "metadata": {},
   "outputs": [],
   "source": [
    "# factor conversions\n",
    "test_set['sex'] = test_set['sex'].astype('category')\n",
    "\n",
    "test_set['race'] = test_set['race'].astype('category')\n",
    "test_set['race'] = test_set['race'].cat.set_categories(['Non-Hispanic White', 'Non-Hispanic Black', 'Hispanic', 'Non-Hispanic Other'], ordered=True)\n",
    "\n",
    "test_set['CMV_status'] = test_set['CMV_status'].astype('category')\n",
    "test_set['CMV_status'] = test_set['CMV_status'].cat.set_categories(['Negative', 'Positive'], ordered=True)"
   ]
  },
  {
   "cell_type": "code",
   "execution_count": 39,
   "id": "sorted-spring",
   "metadata": {},
   "outputs": [
    {
     "name": "stdout",
     "output_type": "stream",
     "text": [
      "           Odds Ratio  Lower CI  Upper CI  P-value\n",
      "Intercept      0.1035    0.0852    0.1257   0.0000\n",
      "blue_mod       0.5275    0.4325    0.6435   0.0000\n",
      "brown_mod      1.7427    1.4775    2.0556   0.0000\n",
      "black_mod      0.8253    0.6620    1.0289   0.0879\n",
      "pink_mod       0.8390    0.7038    1.0002   0.0502\n"
     ]
    }
   ],
   "source": [
    "# Define GLM model using formula notation\n",
    "glm_model = smf.glm(\"mortality ~ blue_mod + brown_mod + black_mod + pink_mod\", data=test_set, family=sm.families.Binomial()).fit()\n",
    "\n",
    "# Extract odds ratios, confidence intervals, and p-values\n",
    "odds_ratios = pd.DataFrame({\n",
    "    'Odds Ratio': np.exp(glm_model.params),  # Convert log-odds to odds ratios\n",
    "    'Lower CI': np.exp(glm_model.conf_int()[0]),  # Lower bound of 95% CI\n",
    "    'Upper CI': np.exp(glm_model.conf_int()[1]),  # Upper bound of 95% CI\n",
    "    'P-value': glm_model.pvalues\n",
    "}).round(4)\n",
    "\n",
    "# Display results\n",
    "print(odds_ratios)"
   ]
  },
  {
   "cell_type": "code",
   "execution_count": null,
   "id": "metropolitan-probe",
   "metadata": {},
   "outputs": [],
   "source": []
  }
 ],
 "metadata": {
  "kernelspec": {
   "display_name": "Python 3 (gokul_env)",
   "language": "python",
   "name": "gokul_env"
  },
  "language_info": {
   "codemirror_mode": {
    "name": "ipython",
    "version": 3
   },
   "file_extension": ".py",
   "mimetype": "text/x-python",
   "name": "python",
   "nbconvert_exporter": "python",
   "pygments_lexer": "ipython3",
   "version": "3.12.5"
  }
 },
 "nbformat": 4,
 "nbformat_minor": 5
}
