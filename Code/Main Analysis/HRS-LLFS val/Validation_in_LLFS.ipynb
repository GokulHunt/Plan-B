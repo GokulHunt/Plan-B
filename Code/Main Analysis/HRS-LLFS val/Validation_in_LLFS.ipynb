{
 "cells": [
  {
   "cell_type": "code",
   "execution_count": 1,
   "id": "comic-worthy",
   "metadata": {},
   "outputs": [],
   "source": [
    "import pyreadstat\n",
    "import numpy as np\n",
    "import pandas as pd\n",
    "import seaborn as sns\n",
    "import matplotlib.pyplot as plt\n",
    "import matplotlib.lines as mlines\n",
    "\n",
    "from sklearn.manifold import TSNE\n",
    "from sklearn.model_selection import train_test_split\n",
    "from sklearn.preprocessing import StandardScaler, RobustScaler, LabelEncoder\n",
    "from sklearn.metrics import precision_score, recall_score, f1_score, accuracy_score, classification_report, roc_curve, roc_auc_score, auc, confusion_matrix\n",
    "\n",
    "import statsmodels.api as sm\n",
    "import statsmodels.formula.api as smf\n",
    "\n",
    "import torch\n",
    "import torch.nn as nn\n",
    "import torch.optim as optim\n",
    "\n",
    "# loading our deep neural network model which accounts for common coexpression modular structure\n",
    "from modular_model import CombinedNetwork"
   ]
  },
  {
   "cell_type": "markdown",
   "id": "handy-console",
   "metadata": {},
   "source": [
    "### Evaluating associations of modules with mortality in the LLFS dataset"
   ]
  },
  {
   "cell_type": "code",
   "execution_count": 3,
   "id": "duplicate-aside",
   "metadata": {},
   "outputs": [
    {
     "data": {
      "text/plain": [
       "(1302, 18163)"
      ]
     },
     "execution_count": 3,
     "metadata": {},
     "output_type": "execute_result"
    }
   ],
   "source": [
    "# Loading the LLFS dataset\n",
    "LLFS_df = pd.read_csv('/panfs/jay/groups/21/thyagara/sesha059/Plan B/New/LLFS part/LLFS_planB_data.csv')\n",
    "LLFS_df.shape"
   ]
  },
  {
   "cell_type": "code",
   "execution_count": 116,
   "id": "closed-saint",
   "metadata": {},
   "outputs": [],
   "source": [
    "# LLFS_df = LLFS_df[LLFS_df['subset'].isin(['proband', 'offspring'])]"
   ]
  },
  {
   "cell_type": "code",
   "execution_count": 4,
   "id": "prescribed-adapter",
   "metadata": {},
   "outputs": [
    {
     "data": {
      "text/plain": [
       "mod_color\n",
       "blue     1066\n",
       "brown     459\n",
       "black     248\n",
       "pink      193\n",
       "Name: count, dtype: int64"
      ]
     },
     "execution_count": 4,
     "metadata": {},
     "output_type": "execute_result"
    }
   ],
   "source": [
    "# common coexpression modules from group lasso\n",
    "common_modules = pd.read_csv('/panfs/jay/groups/21/thyagara/sesha059/Plan B/New/cpm3/common_modules_cpm3.csv')\n",
    "\n",
    "# finding overlapping genes\n",
    "common_modules2 = common_modules.loc[common_modules['gene_id'].isin(LLFS_df.columns), :]\n",
    "common_modules2['mod_color'].value_counts()"
   ]
  },
  {
   "cell_type": "code",
   "execution_count": 5,
   "id": "reflected-symposium",
   "metadata": {},
   "outputs": [],
   "source": [
    "# scaling and normalization\n",
    "clipper = RobustScaler()\n",
    "scaler = StandardScaler()\n",
    "\n",
    "# scaling and normalization\n",
    "temp = clipper.fit_transform(LLFS_df[common_modules2['gene_id']])\n",
    "LLFS_df[common_modules2['gene_id']] = scaler.fit_transform(temp)"
   ]
  },
  {
   "cell_type": "code",
   "execution_count": 6,
   "id": "suitable-sister",
   "metadata": {},
   "outputs": [],
   "source": [
    "# model inputs\n",
    "X_LLFS = LLFS_df[common_modules2['gene_id']]\n",
    "y_LLFS = LLFS_df['Deceased']"
   ]
  },
  {
   "cell_type": "code",
   "execution_count": 7,
   "id": "seasonal-wayne",
   "metadata": {},
   "outputs": [],
   "source": [
    "# Input tensors\n",
    "x1_LLFS =  torch.tensor(X_LLFS[common_modules2['gene_id'][common_modules2['mod_color'] == \"blue\"]].to_numpy(), dtype=torch.float32)\n",
    "x2_LLFS =  torch.tensor(X_LLFS[common_modules2['gene_id'][common_modules2['mod_color'] == \"brown\"]].to_numpy(), dtype=torch.float32)\n",
    "x3_LLFS = torch.tensor(X_LLFS[common_modules2['gene_id'][common_modules2['mod_color'] == \"black\"]].to_numpy(), dtype=torch.float32)\n",
    "x4_LLFS = torch.tensor(X_LLFS[common_modules2['gene_id'][common_modules2['mod_color'] == \"pink\"]].to_numpy(), dtype=torch.float32)"
   ]
  },
  {
   "cell_type": "code",
   "execution_count": 8,
   "id": "reliable-india",
   "metadata": {},
   "outputs": [
    {
     "data": {
      "text/plain": [
       "<All keys matched successfully>"
      ]
     },
     "execution_count": 8,
     "metadata": {},
     "output_type": "execute_result"
    }
   ],
   "source": [
    "# loading the model and the trained weights\n",
    "model = CombinedNetwork(input_dim1 = 1066, input_dim2 = 459, input_dim3 = 248, input_dim4 = 193)\n",
    "model.load_state_dict(torch.load('HRS_LLFS_overlap_mod.pt'))"
   ]
  },
  {
   "cell_type": "code",
   "execution_count": 9,
   "id": "limited-mounting",
   "metadata": {},
   "outputs": [
    {
     "name": "stdout",
     "output_type": "stream",
     "text": [
      "CombinedNetwork(\n",
      "  (module1): Brown_Module(\n",
      "    (fc1): Linear(in_features=1066, out_features=32, bias=True)\n",
      "    (fc2): Linear(in_features=32, out_features=8, bias=True)\n",
      "    (fc3): Linear(in_features=8, out_features=1, bias=True)\n",
      "    (relu): LeakyReLU(negative_slope=0.01)\n",
      "  )\n",
      "  (module2): Brown_Module(\n",
      "    (fc1): Linear(in_features=459, out_features=32, bias=True)\n",
      "    (fc2): Linear(in_features=32, out_features=8, bias=True)\n",
      "    (fc3): Linear(in_features=8, out_features=1, bias=True)\n",
      "    (relu): LeakyReLU(negative_slope=0.01)\n",
      "  )\n",
      "  (module3): Black_Module(\n",
      "    (fc1): Linear(in_features=248, out_features=16, bias=True)\n",
      "    (fc2): Linear(in_features=16, out_features=4, bias=True)\n",
      "    (fc3): Linear(in_features=4, out_features=1, bias=True)\n",
      "    (relu): LeakyReLU(negative_slope=0.01)\n",
      "  )\n",
      "  (module4): Pink_Module(\n",
      "    (fc1): Linear(in_features=193, out_features=16, bias=True)\n",
      "    (fc2): Linear(in_features=16, out_features=4, bias=True)\n",
      "    (fc3): Linear(in_features=4, out_features=1, bias=True)\n",
      "    (relu): LeakyReLU(negative_slope=0.01)\n",
      "  )\n",
      "  (final_fc1): Linear(in_features=4, out_features=32, bias=True)\n",
      "  (final_fc2): Linear(in_features=32, out_features=8, bias=True)\n",
      "  (final_fc3): Linear(in_features=8, out_features=1, bias=True)\n",
      ")\n"
     ]
    }
   ],
   "source": [
    "print(model)"
   ]
  },
  {
   "cell_type": "code",
   "execution_count": 10,
   "id": "million-radar",
   "metadata": {},
   "outputs": [
    {
     "data": {
      "text/plain": [
       "=================================================================\n",
       "Layer (type:depth-idx)                   Param #\n",
       "=================================================================\n",
       "CombinedNetwork                          --\n",
       "├─Brown_Module: 1-1                      --\n",
       "│    └─Linear: 2-1                       34,144\n",
       "│    └─Linear: 2-2                       264\n",
       "│    └─Linear: 2-3                       9\n",
       "│    └─LeakyReLU: 2-4                    --\n",
       "├─Brown_Module: 1-2                      --\n",
       "│    └─Linear: 2-5                       14,720\n",
       "│    └─Linear: 2-6                       264\n",
       "│    └─Linear: 2-7                       9\n",
       "│    └─LeakyReLU: 2-8                    --\n",
       "├─Black_Module: 1-3                      --\n",
       "│    └─Linear: 2-9                       3,984\n",
       "│    └─Linear: 2-10                      68\n",
       "│    └─Linear: 2-11                      5\n",
       "│    └─LeakyReLU: 2-12                   --\n",
       "├─Pink_Module: 1-4                       --\n",
       "│    └─Linear: 2-13                      3,104\n",
       "│    └─Linear: 2-14                      68\n",
       "│    └─Linear: 2-15                      5\n",
       "│    └─LeakyReLU: 2-16                   --\n",
       "├─Linear: 1-5                            160\n",
       "├─Linear: 1-6                            264\n",
       "├─Linear: 1-7                            9\n",
       "=================================================================\n",
       "Total params: 57,077\n",
       "Trainable params: 57,077\n",
       "Non-trainable params: 0\n",
       "================================================================="
      ]
     },
     "execution_count": 10,
     "metadata": {},
     "output_type": "execute_result"
    }
   ],
   "source": [
    "from torchinfo import summary\n",
    "\n",
    "summary(model)"
   ]
  },
  {
   "cell_type": "code",
   "execution_count": 11,
   "id": "working-reservation",
   "metadata": {},
   "outputs": [],
   "source": [
    "# setting the model in evaluation mode\n",
    "model.eval()\n",
    "\n",
    "# Make predictions on the validation set\n",
    "with torch.no_grad():\n",
    "    outputs2 = model(x1_LLFS, x2_LLFS, x3_LLFS, x4_LLFS)\n",
    "    predictions = (torch.sigmoid(outputs2[0]) > 0.5).float()  # Convert logits to binary predictions (0 or 1)\n",
    "\n",
    "# Convert predictions and true labels to numpy arrays\n",
    "pred_np = predictions.reshape(1, -1).numpy()[0]  # Flatten predictions to a 1D array\n",
    "labels_np = np.array(y_LLFS)"
   ]
  },
  {
   "cell_type": "code",
   "execution_count": 12,
   "id": "amazing-shame",
   "metadata": {},
   "outputs": [
    {
     "name": "stdout",
     "output_type": "stream",
     "text": [
      "              precision    recall  f1-score   support\n",
      "\n",
      "       alive       0.82      0.93      0.87      1046\n",
      "        dead       0.35      0.15      0.21       256\n",
      "\n",
      "    accuracy                           0.78      1302\n",
      "   macro avg       0.59      0.54      0.54      1302\n",
      "weighted avg       0.73      0.78      0.74      1302\n",
      "\n"
     ]
    }
   ],
   "source": [
    "# classification report on the validation dataset\n",
    "print(classification_report(labels_np, pred_np, target_names=['alive', 'dead']))"
   ]
  },
  {
   "cell_type": "code",
   "execution_count": 13,
   "id": "dimensional-actress",
   "metadata": {},
   "outputs": [
    {
     "data": {
      "image/png": "[encoded data removed]",
      "text/plain": [
       "<Figure size 640x480 with 1 Axes>"
      ]
     },
     "metadata": {},
     "output_type": "display_data"
    }
   ],
   "source": [
    "# ROC curve using sigmoid probabilities calculated from genetic scores in the test dataset\n",
    "fpr, tpr, threshold = roc_curve(list(y_LLFS), torch.sigmoid(outputs2[0]))\n",
    "roc_auc = auc(fpr, tpr)\n",
    "\n",
    "plt.title('Receiver Operating Characteristic')\n",
    "plt.plot(fpr, tpr, 'b', label = 'AUC = %0.2f' % roc_auc)\n",
    "plt.legend(loc = 'lower right')\n",
    "plt.plot([0, 1], [0, 1],'r--')\n",
    "plt.xlim([0, 1])\n",
    "plt.ylim([0, 1])\n",
    "plt.ylabel('True Positive Rate')\n",
    "plt.xlabel('False Positive Rate')\n",
    "plt.show()"
   ]
  },
  {
   "cell_type": "code",
   "execution_count": 14,
   "id": "sticky-pregnancy",
   "metadata": {},
   "outputs": [
    {
     "data": {
      "image/png": "[encoded data removed]",
      "text/plain": [
       "<Figure size 640x480 with 1 Axes>"
      ]
     },
     "metadata": {},
     "output_type": "display_data"
    }
   ],
   "source": [
    "# classification scatterplot\n",
    "indep, dep = outputs2[0].numpy(), torch.sigmoid(outputs2[0]).numpy()\n",
    "fig, ax = plt.subplots()\n",
    "scatter = ax.scatter(indep, dep, c=labels_np)\n",
    "line = mlines.Line2D(indep, [0.5]*len(dep), color='red')\n",
    "transform = ax.transAxes\n",
    "line.set_transform(transform)\n",
    "ax.add_line(line)\n",
    "plt.legend(*scatter.legend_elements())\n",
    "plt.xlabel(\"Genetic Score\")\n",
    "plt.ylabel(\"Probability\")\n",
    "plt.show()"
   ]
  },
  {
   "cell_type": "code",
   "execution_count": 15,
   "id": "polar-bishop",
   "metadata": {},
   "outputs": [],
   "source": [
    "# saving the latent representation of each module from the model output\n",
    "LLFS_df2 = LLFS_df.copy()\n",
    "LLFS_df2['blue_mod'] = outputs2[1]\n",
    "LLFS_df2['brown_mod'] = outputs2[2]\n",
    "LLFS_df2['black_mod'] = outputs2[3]\n",
    "LLFS_df2['pink_mod'] = outputs2[4]"
   ]
  },
  {
   "cell_type": "code",
   "execution_count": 16,
   "id": "pressing-absorption",
   "metadata": {},
   "outputs": [],
   "source": [
    "# scaling the covariates\n",
    "temp = clipper.fit_transform(LLFS_df2[['age', 'educ_years', 'Tcells', 'bmi', 'hscrp', 'il6']])\n",
    "LLFS_df2[['age', 'educ_years', 'Tcells', 'bmi', 'hscrp', 'il6']] = scaler.fit_transform(temp)"
   ]
  },
  {
   "cell_type": "code",
   "execution_count": 17,
   "id": "sustained-danish",
   "metadata": {},
   "outputs": [],
   "source": [
    "temp = clipper.fit_transform(LLFS_df2[['blue_mod', 'brown_mod', 'black_mod', 'pink_mod']])\n",
    "LLFS_df2[['blue_mod', 'brown_mod', 'black_mod', 'pink_mod']] = scaler.fit_transform(temp)"
   ]
  },
  {
   "cell_type": "code",
   "execution_count": 18,
   "id": "hispanic-desert",
   "metadata": {},
   "outputs": [],
   "source": [
    "# factor conversions\n",
    "LLFS_df2['sex'] = LLFS_df2['sex'].astype('category')\n",
    "\n",
    "LLFS_df2['CMV_Serostatus'] = LLFS_df2['CMV_Serostatus'].astype('category')\n",
    "LLFS_df2['CMV_Serostatus'] = LLFS_df2['CMV_Serostatus'].cat.set_categories(['CMV Negative', 'CMV Positive'], ordered=True)"
   ]
  },
  {
   "cell_type": "code",
   "execution_count": 21,
   "id": "difficult-policy",
   "metadata": {},
   "outputs": [
    {
     "name": "stdout",
     "output_type": "stream",
     "text": [
      "           Odds Ratio  Lower CI  Upper CI  P-value\n",
      "Intercept      0.2013    0.1710    0.2368   0.0000\n",
      "blue_mod       0.5461    0.4626    0.6446   0.0000\n",
      "brown_mod      1.6642    1.4418    1.9208   0.0000\n",
      "black_mod      0.6328    0.4801    0.8341   0.0012\n",
      "pink_mod       0.9189    0.7941    1.0633   0.2558\n"
     ]
    }
   ],
   "source": [
    "# Define GLM model using formula notation\n",
    "glm_model = smf.glm(\"Deceased ~ blue_mod + brown_mod + black_mod + pink_mod\", data=LLFS_df2, family=sm.families.Binomial()).fit()\n",
    "\n",
    "# Extract odds ratios, confidence intervals, and p-values\n",
    "odds_ratios = pd.DataFrame({\n",
    "    'Odds Ratio': np.exp(glm_model.params),  # Convert log-odds to odds ratios\n",
    "    'Lower CI': np.exp(glm_model.conf_int()[0]),  # Lower bound of 95% CI\n",
    "    'Upper CI': np.exp(glm_model.conf_int()[1]),  # Upper bound of 95% CI\n",
    "    'P-value': glm_model.pvalues\n",
    "}).round(4)\n",
    "\n",
    "# Display results\n",
    "print(odds_ratios)"
   ]
  },
  {
   "cell_type": "code",
   "execution_count": null,
   "id": "alleged-disability",
   "metadata": {},
   "outputs": [],
   "source": []
  }
 ],
 "metadata": {
  "kernelspec": {
   "display_name": "Python 3 (gokul_env)",
   "language": "python",
   "name": "gokul_env"
  },
  "language_info": {
   "codemirror_mode": {
    "name": "ipython",
    "version": 3
   },
   "file_extension": ".py",
   "mimetype": "text/x-python",
   "name": "python",
   "nbconvert_exporter": "python",
   "pygments_lexer": "ipython3",
   "version": "3.12.5"
  }
 },
 "nbformat": 4,
 "nbformat_minor": 5
}
