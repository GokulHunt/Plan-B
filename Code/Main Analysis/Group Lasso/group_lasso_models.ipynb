{
 "cells": [
  {
   "cell_type": "code",
   "execution_count": 111,
   "id": "large-lyric",
   "metadata": {},
   "outputs": [],
   "source": [
    "import pyreadstat\n",
    "import numpy as np\n",
    "import pandas as pd\n",
    "import seaborn as sns\n",
    "import matplotlib.pyplot as plt\n",
    "\n",
    "import sklearn\n",
    "from sklearn.metrics import r2_score\n",
    "from sklearn.manifold import TSNE\n",
    "from sklearn.model_selection import KFold\n",
    "from sklearn.preprocessing import StandardScaler, RobustScaler, LabelEncoder\n",
    "from scipy.cluster.hierarchy import linkage, fcluster, dendrogram\n",
    "\n",
    "from group_lasso import LogisticGroupLasso, GroupLasso"
   ]
  },
  {
   "cell_type": "code",
   "execution_count": null,
   "id": "architectural-wagner",
   "metadata": {},
   "outputs": [
    {
     "data": {
      "text/plain": [
       "(3435, 4706)"
      ]
     },
     "execution_count": 79,
     "metadata": {},
     "output_type": "execute_result"
    }
   ],
   "source": [
    "# reading the dataset with CMV significant genes\n",
    "CMV_clonotypes_data = pd.read_csv('/panfs/jay/groups/21/thyagara/sesha059/Plan B/New/cpm3/final_dataset.csv')\n",
    "CMV_clonotypes_data.columns = CMV_clonotypes_data.columns.str.replace(r'\\..*', '', regex=True)\n",
    "\n",
    "CMV_clonotypes_data.shape"
   ]
  },
  {
   "cell_type": "code",
   "execution_count": null,
   "id": "editorial-webmaster",
   "metadata": {},
   "outputs": [
    {
     "data": {
      "text/plain": [
       "mod_color\n",
       "blue         1139\n",
       "turquoise    1124\n",
       "brown         500\n",
       "yellow        419\n",
       "grey          413\n",
       "red           294\n",
       "black         254\n",
       "pink          200\n",
       "magenta       164\n",
       "purple        144\n",
       "Name: count, dtype: int64"
      ]
     },
     "execution_count": 77,
     "metadata": {},
     "output_type": "execute_result"
    }
   ],
   "source": [
    "# coexpression moudles\n",
    "coexp_modules = pd.read_csv('/panfs/jay/groups/21/thyagara/sesha059/Plan B/New/cpm3/coexp_modules.csv')\n",
    "coexp_modules['mod_color'].value_counts()"
   ]
  },
  {
   "cell_type": "code",
   "execution_count": 80,
   "id": "extraordinary-dimension",
   "metadata": {},
   "outputs": [
    {
     "data": {
      "text/plain": [
       "(3253, 4706)"
      ]
     },
     "execution_count": 80,
     "metadata": {},
     "output_type": "execute_result"
    }
   ],
   "source": [
    "# removing nulls in CD4N pct\n",
    "CMV_clonotypes_data = CMV_clonotypes_data.dropna(axis=0, subset=['CD4N_pct'])\n",
    "CMV_clonotypes_data.shape"
   ]
  },
  {
   "cell_type": "code",
   "execution_count": 81,
   "id": "checked-reputation",
   "metadata": {},
   "outputs": [],
   "source": [
    "# scaling and normalization\n",
    "clipper = RobustScaler()\n",
    "scaler = StandardScaler()\n",
    "\n",
    "temp = clipper.fit_transform(CMV_clonotypes_data[coexp_modules['gene_id']])\n",
    "CMV_clonotypes_data[coexp_modules['gene_id']] = scaler.fit_transform(temp)\n",
    "\n",
    "temp = clipper.fit_transform(CMV_clonotypes_data[['TRAB', 'CD4N_pct']])\n",
    "CMV_clonotypes_data[['TRAB', 'CD4N_pct']] = scaler.fit_transform(temp)"
   ]
  },
  {
   "cell_type": "markdown",
   "id": "greatest-hebrew",
   "metadata": {},
   "source": [
    "#### Working on the TRAB latent variable"
   ]
  },
  {
   "cell_type": "code",
   "execution_count": 99,
   "id": "attempted-liver",
   "metadata": {},
   "outputs": [],
   "source": [
    "# inputs to Group Lasso\n",
    "X = np.array(CMV_clonotypes_data[coexp_modules['gene_id']])\n",
    "y = np.array(CMV_clonotypes_data[[\"TRAB\"]]).reshape(-1, 1)"
   ]
  },
  {
   "cell_type": "code",
   "execution_count": 85,
   "id": "economic-origin",
   "metadata": {
    "collapsed": true,
    "jupyter": {
     "outputs_hidden": true,
     "source_hidden": true
    }
   },
   "outputs": [
    {
     "name": "stderr",
     "output_type": "stream",
     "text": [
      "/users/1/sesha059/.conda/envs/gokul_env/lib/python3.12/site-packages/group_lasso/_fista.py:114: ConvergenceWarning: The FISTA iterations did not converge to a sufficient minimum.\n",
      "You used subsampling then this is expected, otherwise, try increasing the number of iterations or decreasing the tolerance.\n",
      "  warnings.warn(\n",
      "/users/1/sesha059/.conda/envs/gokul_env/lib/python3.12/site-packages/group_lasso/_fista.py:114: ConvergenceWarning: The FISTA iterations did not converge to a sufficient minimum.\n",
      "You used subsampling then this is expected, otherwise, try increasing the number of iterations or decreasing the tolerance.\n",
      "  warnings.warn(\n",
      "/users/1/sesha059/.conda/envs/gokul_env/lib/python3.12/site-packages/group_lasso/_fista.py:114: ConvergenceWarning: The FISTA iterations did not converge to a sufficient minimum.\n",
      "You used subsampling then this is expected, otherwise, try increasing the number of iterations or decreasing the tolerance.\n",
      "  warnings.warn(\n",
      "/users/1/sesha059/.conda/envs/gokul_env/lib/python3.12/site-packages/group_lasso/_fista.py:114: ConvergenceWarning: The FISTA iterations did not converge to a sufficient minimum.\n",
      "You used subsampling then this is expected, otherwise, try increasing the number of iterations or decreasing the tolerance.\n",
      "  warnings.warn(\n",
      "/users/1/sesha059/.conda/envs/gokul_env/lib/python3.12/site-packages/group_lasso/_fista.py:114: ConvergenceWarning: The FISTA iterations did not converge to a sufficient minimum.\n",
      "You used subsampling then this is expected, otherwise, try increasing the number of iterations or decreasing the tolerance.\n",
      "  warnings.warn(\n"
     ]
    },
    {
     "name": "stdout",
     "output_type": "stream",
     "text": [
      "group_reg: 1.00000, Avg RSS: 423491.9175, Avg Groups Selected: 0.0\n"
     ]
    },
    {
     "name": "stderr",
     "output_type": "stream",
     "text": [
      "/users/1/sesha059/.conda/envs/gokul_env/lib/python3.12/site-packages/group_lasso/_fista.py:114: ConvergenceWarning: The FISTA iterations did not converge to a sufficient minimum.\n",
      "You used subsampling then this is expected, otherwise, try increasing the number of iterations or decreasing the tolerance.\n",
      "  warnings.warn(\n",
      "/users/1/sesha059/.conda/envs/gokul_env/lib/python3.12/site-packages/group_lasso/_fista.py:114: ConvergenceWarning: The FISTA iterations did not converge to a sufficient minimum.\n",
      "You used subsampling then this is expected, otherwise, try increasing the number of iterations or decreasing the tolerance.\n",
      "  warnings.warn(\n",
      "/users/1/sesha059/.conda/envs/gokul_env/lib/python3.12/site-packages/group_lasso/_fista.py:114: ConvergenceWarning: The FISTA iterations did not converge to a sufficient minimum.\n",
      "You used subsampling then this is expected, otherwise, try increasing the number of iterations or decreasing the tolerance.\n",
      "  warnings.warn(\n",
      "/users/1/sesha059/.conda/envs/gokul_env/lib/python3.12/site-packages/group_lasso/_fista.py:114: ConvergenceWarning: The FISTA iterations did not converge to a sufficient minimum.\n",
      "You used subsampling then this is expected, otherwise, try increasing the number of iterations or decreasing the tolerance.\n",
      "  warnings.warn(\n",
      "/users/1/sesha059/.conda/envs/gokul_env/lib/python3.12/site-packages/group_lasso/_fista.py:114: ConvergenceWarning: The FISTA iterations did not converge to a sufficient minimum.\n",
      "You used subsampling then this is expected, otherwise, try increasing the number of iterations or decreasing the tolerance.\n",
      "  warnings.warn(\n"
     ]
    },
    {
     "name": "stdout",
     "output_type": "stream",
     "text": [
      "group_reg: 0.10000, Avg RSS: 450837.5015, Avg Groups Selected: 1.0\n"
     ]
    },
    {
     "name": "stderr",
     "output_type": "stream",
     "text": [
      "/users/1/sesha059/.conda/envs/gokul_env/lib/python3.12/site-packages/group_lasso/_fista.py:114: ConvergenceWarning: The FISTA iterations did not converge to a sufficient minimum.\n",
      "You used subsampling then this is expected, otherwise, try increasing the number of iterations or decreasing the tolerance.\n",
      "  warnings.warn(\n",
      "/users/1/sesha059/.conda/envs/gokul_env/lib/python3.12/site-packages/group_lasso/_fista.py:114: ConvergenceWarning: The FISTA iterations did not converge to a sufficient minimum.\n",
      "You used subsampling then this is expected, otherwise, try increasing the number of iterations or decreasing the tolerance.\n",
      "  warnings.warn(\n",
      "/users/1/sesha059/.conda/envs/gokul_env/lib/python3.12/site-packages/group_lasso/_fista.py:114: ConvergenceWarning: The FISTA iterations did not converge to a sufficient minimum.\n",
      "You used subsampling then this is expected, otherwise, try increasing the number of iterations or decreasing the tolerance.\n",
      "  warnings.warn(\n",
      "/users/1/sesha059/.conda/envs/gokul_env/lib/python3.12/site-packages/group_lasso/_fista.py:114: ConvergenceWarning: The FISTA iterations did not converge to a sufficient minimum.\n",
      "You used subsampling then this is expected, otherwise, try increasing the number of iterations or decreasing the tolerance.\n",
      "  warnings.warn(\n",
      "/users/1/sesha059/.conda/envs/gokul_env/lib/python3.12/site-packages/group_lasso/_fista.py:114: ConvergenceWarning: The FISTA iterations did not converge to a sufficient minimum.\n",
      "You used subsampling then this is expected, otherwise, try increasing the number of iterations or decreasing the tolerance.\n",
      "  warnings.warn(\n"
     ]
    },
    {
     "name": "stdout",
     "output_type": "stream",
     "text": [
      "group_reg: 0.05000, Avg RSS: 504017.3401, Avg Groups Selected: 5.0\n"
     ]
    },
    {
     "name": "stderr",
     "output_type": "stream",
     "text": [
      "/users/1/sesha059/.conda/envs/gokul_env/lib/python3.12/site-packages/group_lasso/_fista.py:114: ConvergenceWarning: The FISTA iterations did not converge to a sufficient minimum.\n",
      "You used subsampling then this is expected, otherwise, try increasing the number of iterations or decreasing the tolerance.\n",
      "  warnings.warn(\n",
      "/users/1/sesha059/.conda/envs/gokul_env/lib/python3.12/site-packages/group_lasso/_fista.py:114: ConvergenceWarning: The FISTA iterations did not converge to a sufficient minimum.\n",
      "You used subsampling then this is expected, otherwise, try increasing the number of iterations or decreasing the tolerance.\n",
      "  warnings.warn(\n",
      "/users/1/sesha059/.conda/envs/gokul_env/lib/python3.12/site-packages/group_lasso/_fista.py:114: ConvergenceWarning: The FISTA iterations did not converge to a sufficient minimum.\n",
      "You used subsampling then this is expected, otherwise, try increasing the number of iterations or decreasing the tolerance.\n",
      "  warnings.warn(\n",
      "/users/1/sesha059/.conda/envs/gokul_env/lib/python3.12/site-packages/group_lasso/_fista.py:114: ConvergenceWarning: The FISTA iterations did not converge to a sufficient minimum.\n",
      "You used subsampling then this is expected, otherwise, try increasing the number of iterations or decreasing the tolerance.\n",
      "  warnings.warn(\n",
      "/users/1/sesha059/.conda/envs/gokul_env/lib/python3.12/site-packages/group_lasso/_fista.py:114: ConvergenceWarning: The FISTA iterations did not converge to a sufficient minimum.\n",
      "You used subsampling then this is expected, otherwise, try increasing the number of iterations or decreasing the tolerance.\n",
      "  warnings.warn(\n"
     ]
    },
    {
     "name": "stdout",
     "output_type": "stream",
     "text": [
      "group_reg: 0.01000, Avg RSS: 617852.5198, Avg Groups Selected: 8.0\n"
     ]
    },
    {
     "name": "stderr",
     "output_type": "stream",
     "text": [
      "/users/1/sesha059/.conda/envs/gokul_env/lib/python3.12/site-packages/group_lasso/_fista.py:114: ConvergenceWarning: The FISTA iterations did not converge to a sufficient minimum.\n",
      "You used subsampling then this is expected, otherwise, try increasing the number of iterations or decreasing the tolerance.\n",
      "  warnings.warn(\n",
      "/users/1/sesha059/.conda/envs/gokul_env/lib/python3.12/site-packages/group_lasso/_fista.py:114: ConvergenceWarning: The FISTA iterations did not converge to a sufficient minimum.\n",
      "You used subsampling then this is expected, otherwise, try increasing the number of iterations or decreasing the tolerance.\n",
      "  warnings.warn(\n",
      "/users/1/sesha059/.conda/envs/gokul_env/lib/python3.12/site-packages/group_lasso/_fista.py:114: ConvergenceWarning: The FISTA iterations did not converge to a sufficient minimum.\n",
      "You used subsampling then this is expected, otherwise, try increasing the number of iterations or decreasing the tolerance.\n",
      "  warnings.warn(\n",
      "/users/1/sesha059/.conda/envs/gokul_env/lib/python3.12/site-packages/group_lasso/_fista.py:114: ConvergenceWarning: The FISTA iterations did not converge to a sufficient minimum.\n",
      "You used subsampling then this is expected, otherwise, try increasing the number of iterations or decreasing the tolerance.\n",
      "  warnings.warn(\n"
     ]
    },
    {
     "name": "stdout",
     "output_type": "stream",
     "text": [
      "group_reg: 0.00500, Avg RSS: 651103.4587, Avg Groups Selected: 10.0\n",
      "\n",
      "Best group_reg: 0.00500, RSS: 651103.4587, Groups: 10.0\n"
     ]
    },
    {
     "name": "stderr",
     "output_type": "stream",
     "text": [
      "/users/1/sesha059/.conda/envs/gokul_env/lib/python3.12/site-packages/group_lasso/_fista.py:114: ConvergenceWarning: The FISTA iterations did not converge to a sufficient minimum.\n",
      "You used subsampling then this is expected, otherwise, try increasing the number of iterations or decreasing the tolerance.\n",
      "  warnings.warn(\n",
      "/tmp/ipykernel_2826200/1982194957.py:37: RuntimeWarning: divide by zero encountered in scalar divide\n",
      "  best_reg, best_rss, best_groups = min(cv_results, key=lambda x: x[1]/x[2])\n"
     ]
    }
   ],
   "source": [
    "# Define a grid of group regularization values\n",
    "group_reg_grid = [1, 0.1, 0.05, 0.01, 0.005] #np.logspace(-3, 0, 10)  # You can adjust this range\n",
    "\n",
    "cv_results = []\n",
    "\n",
    "for reg_val in group_reg_grid:\n",
    "    fold_rss = []\n",
    "    fold_n_groups = []\n",
    "\n",
    "    for train_idx, test_idx in kf.split(X):\n",
    "        X_train, X_test = X[train_idx], X[test_idx]\n",
    "        y_train, y_test = y[train_idx], y[test_idx]\n",
    "\n",
    "        gl = GroupLasso(\n",
    "            groups=coexp_modules['mod_num'],\n",
    "            group_reg=reg_val,\n",
    "            l1_reg=0,\n",
    "            scale_reg=\"group_size\",\n",
    "            fit_intercept=True,\n",
    "            supress_warning=True,\n",
    "        )\n",
    "        gl.fit(X_train, y_train)\n",
    "        y_pred = gl.predict(X_test)\n",
    "\n",
    "        rss = np.sum((y_test - y_pred) ** 2)\n",
    "        n_selected_groups = np.unique(coexp_modules['mod_num'][gl.sparsity_mask_]).shape[0]\n",
    "\n",
    "        fold_rss.append(rss)\n",
    "        fold_n_groups.append(n_selected_groups)\n",
    "\n",
    "    avg_rss = np.mean(fold_rss)\n",
    "    avg_groups = np.median(fold_n_groups)\n",
    "    cv_results.append((reg_val, avg_rss, avg_groups))\n",
    "    print(f\"group_reg: {reg_val:.5f}, Avg RSS: {avg_rss:.4f}, Avg Groups Selected: {avg_groups:.1f}\")\n",
    "\n",
    "# Find best reg value by RSS\n",
    "best_reg, best_rss, best_groups = min(cv_results, key=lambda x: x[1]/x[2])\n",
    "print(f\"\\nBest group_reg: {best_reg:.5f}, RSS: {best_rss:.4f}, Groups: {best_groups:.1f}\")\n",
    "\n",
    "# # Refit on full data using the best regularization value\n",
    "# best_gl = GroupLasso(\n",
    "#     groups=coexp_modules['mod_num'],\n",
    "#     group_reg=best_reg,\n",
    "#     l1_reg=0,\n",
    "#     scale_reg=\"group_size\",\n",
    "#     fit_intercept=True,\n",
    "#     supress_warning=True,\n",
    "# )\n",
    "# best_gl.fit(X, y)\n",
    "\n",
    "# # Optionally inspect coefficients or predictions\n",
    "# print(\"Final model fitted on full data.\")\n",
    "\n",
    "# # Extracting info from estimator\n",
    "# yhat = best_gl.predict(X)\n",
    "# sparsity_mask = best_gl.sparsity_mask_\n",
    "# w_hat = best_gl.coef_\n",
    "\n",
    "# # Compute performance metrics\n",
    "# r2 = r2_score(y, yhat)\n",
    "\n",
    "# # Print results\n",
    "# print(f\"Number variables: {len(sparsity_mask)}\")\n",
    "# print(f\"Number of chosen variables: {sparsity_mask.sum()}\")\n",
    "# print(f\"R^2: {r2}\")"
   ]
  },
  {
   "cell_type": "code",
   "execution_count": 101,
   "id": "indoor-scale",
   "metadata": {},
   "outputs": [
    {
     "name": "stdout",
     "output_type": "stream",
     "text": [
      "Number variables: 4651\n",
      "Number of chosen variables: 3361\n",
      "R^2: 0.5056418252991719\n"
     ]
    },
    {
     "name": "stderr",
     "output_type": "stream",
     "text": [
      "/users/1/sesha059/.conda/envs/gokul_env/lib/python3.12/site-packages/group_lasso/_fista.py:114: ConvergenceWarning: The FISTA iterations did not converge to a sufficient minimum.\n",
      "You used subsampling then this is expected, otherwise, try increasing the number of iterations or decreasing the tolerance.\n",
      "  warnings.warn(\n"
     ]
    }
   ],
   "source": [
    "# Fitting a group lasso model\n",
    "gl = GroupLasso(\n",
    "    groups=coexp_modules['mod_num'],\n",
    "    group_reg=0.025,\n",
    "    l1_reg=0,\n",
    "    scale_reg=\"group_size\",\n",
    "    fit_intercept=True,\n",
    "    supress_warning=True,\n",
    ")\n",
    "\n",
    "gl.fit(X, y)\n",
    "\n",
    "# Extracting info from estimator\n",
    "yhat = gl.predict(X)\n",
    "sparsity_mask = gl.sparsity_mask_\n",
    "w_hat = gl.coef_\n",
    "\n",
    "# Compute performance metrics\n",
    "r2 = r2_score(y, yhat)\n",
    "\n",
    "# Print results\n",
    "print(f\"Number variables: {len(sparsity_mask)}\")\n",
    "print(f\"Number of chosen variables: {sparsity_mask.sum()}\")\n",
    "print(f\"R^2: {r2}\")"
   ]
  },
  {
   "cell_type": "code",
   "execution_count": 102,
   "id": "special-romantic",
   "metadata": {},
   "outputs": [
    {
     "data": {
      "text/plain": [
       "modules\n",
       "blue         1139\n",
       "turquoise    1124\n",
       "brown         500\n",
       "black         254\n",
       "pink          200\n",
       "purple        144\n",
       "Name: count, dtype: int64"
      ]
     },
     "execution_count": 102,
     "metadata": {},
     "output_type": "execute_result"
    }
   ],
   "source": [
    "# creating a dataframe for genes and their respective groups\n",
    "data = {'genes': list(coexp_modules[\"gene_id\"][sparsity_mask]), 'modules': list(coexp_modules[\"mod_color\"][sparsity_mask]), 'TRAB': list(w_hat.reshape(1, -1)[0][sparsity_mask])}\n",
    "gene_grp_TRAB = pd.DataFrame.from_dict(data)\n",
    "\n",
    "gene_grp_TRAB['modules'].value_counts()"
   ]
  },
  {
   "cell_type": "code",
   "execution_count": 61,
   "id": "greatest-office",
   "metadata": {},
   "outputs": [
    {
     "data": {
      "text/html": [
       "<div>\n",
       "<style scoped>\n",
       "    .dataframe tbody tr th:only-of-type {\n",
       "        vertical-align: middle;\n",
       "    }\n",
       "\n",
       "    .dataframe tbody tr th {\n",
       "        vertical-align: top;\n",
       "    }\n",
       "\n",
       "    .dataframe thead th {\n",
       "        text-align: right;\n",
       "    }\n",
       "</style>\n",
       "<table border=\"1\" class=\"dataframe\">\n",
       "  <thead>\n",
       "    <tr style=\"text-align: right;\">\n",
       "      <th></th>\n",
       "      <th>genes</th>\n",
       "      <th>modules</th>\n",
       "      <th>TRAB</th>\n",
       "    </tr>\n",
       "  </thead>\n",
       "  <tbody>\n",
       "    <tr>\n",
       "      <th>0</th>\n",
       "      <td>ENSG00000000971</td>\n",
       "      <td>turquoise</td>\n",
       "      <td>0.000111</td>\n",
       "    </tr>\n",
       "    <tr>\n",
       "      <th>1</th>\n",
       "      <td>ENSG00000001084</td>\n",
       "      <td>purple</td>\n",
       "      <td>-0.001089</td>\n",
       "    </tr>\n",
       "    <tr>\n",
       "      <th>2</th>\n",
       "      <td>ENSG00000002549</td>\n",
       "      <td>blue</td>\n",
       "      <td>0.000294</td>\n",
       "    </tr>\n",
       "    <tr>\n",
       "      <th>3</th>\n",
       "      <td>ENSG00000002586</td>\n",
       "      <td>pink</td>\n",
       "      <td>0.000405</td>\n",
       "    </tr>\n",
       "    <tr>\n",
       "      <th>4</th>\n",
       "      <td>ENSG00000002919</td>\n",
       "      <td>blue</td>\n",
       "      <td>-0.000473</td>\n",
       "    </tr>\n",
       "    <tr>\n",
       "      <th>...</th>\n",
       "      <td>...</td>\n",
       "      <td>...</td>\n",
       "      <td>...</td>\n",
       "    </tr>\n",
       "    <tr>\n",
       "      <th>3356</th>\n",
       "      <td>ENSG00000283444</td>\n",
       "      <td>turquoise</td>\n",
       "      <td>-0.000186</td>\n",
       "    </tr>\n",
       "    <tr>\n",
       "      <th>3357</th>\n",
       "      <td>ENSG00000283602</td>\n",
       "      <td>turquoise</td>\n",
       "      <td>-0.000095</td>\n",
       "    </tr>\n",
       "    <tr>\n",
       "      <th>3358</th>\n",
       "      <td>ENSG00000283839</td>\n",
       "      <td>brown</td>\n",
       "      <td>-0.000097</td>\n",
       "    </tr>\n",
       "    <tr>\n",
       "      <th>3359</th>\n",
       "      <td>ENSG00000283994</td>\n",
       "      <td>blue</td>\n",
       "      <td>-0.000920</td>\n",
       "    </tr>\n",
       "    <tr>\n",
       "      <th>3360</th>\n",
       "      <td>ENSG00000284526</td>\n",
       "      <td>turquoise</td>\n",
       "      <td>-0.000080</td>\n",
       "    </tr>\n",
       "  </tbody>\n",
       "</table>\n",
       "<p>3361 rows × 3 columns</p>\n",
       "</div>"
      ],
      "text/plain": [
       "                genes    modules      TRAB\n",
       "0     ENSG00000000971  turquoise  0.000111\n",
       "1     ENSG00000001084     purple -0.001089\n",
       "2     ENSG00000002549       blue  0.000294\n",
       "3     ENSG00000002586       pink  0.000405\n",
       "4     ENSG00000002919       blue -0.000473\n",
       "...               ...        ...       ...\n",
       "3356  ENSG00000283444  turquoise -0.000186\n",
       "3357  ENSG00000283602  turquoise -0.000095\n",
       "3358  ENSG00000283839      brown -0.000097\n",
       "3359  ENSG00000283994       blue -0.000920\n",
       "3360  ENSG00000284526  turquoise -0.000080\n",
       "\n",
       "[3361 rows x 3 columns]"
      ]
     },
     "execution_count": 61,
     "metadata": {},
     "output_type": "execute_result"
    }
   ],
   "source": [
    "gene_grp_TRAB"
   ]
  },
  {
   "cell_type": "markdown",
   "id": "rural-possible",
   "metadata": {},
   "source": [
    "#### Working on the CD4N pct"
   ]
  },
  {
   "cell_type": "code",
   "execution_count": 93,
   "id": "incorporated-standing",
   "metadata": {},
   "outputs": [],
   "source": [
    "# inputs to Group Lasso\n",
    "X = np.array(CMV_clonotypes_data[coexp_modules['gene_id']])\n",
    "y = np.array(CMV_clonotypes_data[[\"CD4N_pct\"]]).reshape(-1, 1)"
   ]
  },
  {
   "cell_type": "code",
   "execution_count": 97,
   "id": "hungry-engineering",
   "metadata": {},
   "outputs": [
    {
     "name": "stdout",
     "output_type": "stream",
     "text": [
      "Number variables: 4651\n",
      "Number of chosen variables: 2964\n",
      "R^2: 0.7418040965833039\n"
     ]
    },
    {
     "name": "stderr",
     "output_type": "stream",
     "text": [
      "/users/1/sesha059/.conda/envs/gokul_env/lib/python3.12/site-packages/group_lasso/_fista.py:114: ConvergenceWarning: The FISTA iterations did not converge to a sufficient minimum.\n",
      "You used subsampling then this is expected, otherwise, try increasing the number of iterations or decreasing the tolerance.\n",
      "  warnings.warn(\n"
     ]
    }
   ],
   "source": [
    "# Fitting a group lasso model\n",
    "gl = GroupLasso(\n",
    "    groups=coexp_modules['mod_num'],\n",
    "    group_reg=0.01,\n",
    "    l1_reg=0,\n",
    "    scale_reg=\"group_size\",\n",
    "    fit_intercept=True,\n",
    "    supress_warning=True,\n",
    ")\n",
    "\n",
    "gl.fit(X, y)\n",
    "\n",
    "# Extracting info from estimator\n",
    "yhat = gl.predict(X)\n",
    "sparsity_mask = gl.sparsity_mask_\n",
    "w_hat = gl.coef_\n",
    "\n",
    "# Compute performance metrics\n",
    "r2 = r2_score(y, yhat)\n",
    "\n",
    "# Print results\n",
    "print(f\"Number variables: {len(sparsity_mask)}\")\n",
    "print(f\"Number of chosen variables: {sparsity_mask.sum()}\")\n",
    "print(f\"R^2: {r2}\")"
   ]
  },
  {
   "cell_type": "code",
   "execution_count": 98,
   "id": "laden-stupid",
   "metadata": {},
   "outputs": [
    {
     "data": {
      "text/plain": [
       "modules\n",
       "blue       1139\n",
       "brown       500\n",
       "grey        413\n",
       "red         294\n",
       "black       254\n",
       "pink        200\n",
       "magenta     164\n",
       "Name: count, dtype: int64"
      ]
     },
     "execution_count": 98,
     "metadata": {},
     "output_type": "execute_result"
    }
   ],
   "source": [
    "# creating a dataframe for genes and their respective groups\n",
    "data = {'genes': list(coexp_modules[\"gene_id\"][sparsity_mask]), 'modules': list(coexp_modules[\"mod_color\"][sparsity_mask]), 'CD4N': list(w_hat.reshape(1, -1)[0][sparsity_mask])}\n",
    "gene_grp_CD4N = pd.DataFrame.from_dict(data)\n",
    "\n",
    "gene_grp_CD4N['modules'].value_counts()"
   ]
  },
  {
   "cell_type": "code",
   "execution_count": 103,
   "id": "voluntary-ghost",
   "metadata": {},
   "outputs": [
    {
     "data": {
      "text/plain": [
       "modules\n",
       "blue     1139\n",
       "brown     500\n",
       "black     254\n",
       "pink      200\n",
       "Name: count, dtype: int64"
      ]
     },
     "execution_count": 103,
     "metadata": {},
     "output_type": "execute_result"
    }
   ],
   "source": [
    "group_lasso_coeffs = gene_grp_TRAB.merge(gene_grp_CD4N[['genes', 'CD4N']], how=\"inner\", on=[\"genes\"])\n",
    "group_lasso_coeffs['modules'].value_counts()"
   ]
  },
  {
   "cell_type": "code",
   "execution_count": null,
   "id": "generous-response",
   "metadata": {},
   "outputs": [],
   "source": [
    "group_lasso_coeffs.to_csv('grp_lasso_coeffs.csv', index=False)"
   ]
  },
  {
   "cell_type": "markdown",
   "id": "prime-tutorial",
   "metadata": {},
   "source": [
    "It Looks like brown, black, and pink modules are common in between TRAB and CD4N"
   ]
  },
  {
   "cell_type": "code",
   "execution_count": 107,
   "id": "white-cleveland",
   "metadata": {},
   "outputs": [
    {
     "data": {
      "text/plain": [
       "(2093, 3)"
      ]
     },
     "execution_count": 107,
     "metadata": {},
     "output_type": "execute_result"
    }
   ],
   "source": [
    "common_modules = coexp_modules[coexp_modules['mod_color'].isin(['blue', 'brown', 'black', 'pink'])]\n",
    "\n",
    "common_modules.shape"
   ]
  },
  {
   "cell_type": "code",
   "execution_count": null,
   "id": "opposite-anaheim",
   "metadata": {},
   "outputs": [],
   "source": [
    "common_modules.to_csv('common_modules.csv', index=False)"
   ]
  },
  {
   "cell_type": "code",
   "execution_count": 108,
   "id": "frequent-weight",
   "metadata": {},
   "outputs": [],
   "source": [
    "coef_df = group_lasso_coeffs.copy()\n",
    "\n",
    "# Set gene name as index\n",
    "coef_df.set_index('genes', inplace=True)\n",
    "\n",
    "# Extract modules and coefficients\n",
    "modules = coef_df['modules']\n",
    "coef_only = coef_df.drop(columns=['modules'])"
   ]
  },
  {
   "cell_type": "code",
   "execution_count": 112,
   "id": "phantom-miracle",
   "metadata": {},
   "outputs": [
    {
     "data": {
      "text/plain": [
       "<Axes: >"
      ]
     },
     "execution_count": 112,
     "metadata": {},
     "output_type": "execute_result"
    },
    {
     "data": {
      "image/png": "[encoded data removed]",
      "text/plain": [
       "<Figure size 640x480 with 1 Axes>"
      ]
     },
     "metadata": {},
     "output_type": "display_data"
    }
   ],
   "source": [
    "coef_df.loc[coef_df['modules'] == \"pink\", 'TRAB'].hist()"
   ]
  },
  {
   "cell_type": "code",
   "execution_count": 113,
   "id": "spare-translator",
   "metadata": {},
   "outputs": [
    {
     "data": {
      "text/plain": [
       "<Axes: >"
      ]
     },
     "execution_count": 113,
     "metadata": {},
     "output_type": "execute_result"
    },
    {
     "data": {
      "image/png": "[encoded data removed]",
      "text/plain": [
       "<Figure size 640x480 with 1 Axes>"
      ]
     },
     "metadata": {},
     "output_type": "display_data"
    }
   ],
   "source": [
    "coef_df.loc[coef_df['modules'] == \"pink\", 'CD4N'].hist()"
   ]
  },
  {
   "cell_type": "code",
   "execution_count": 114,
   "id": "mature-match",
   "metadata": {},
   "outputs": [
    {
     "data": {
      "text/plain": [
       "<Axes: >"
      ]
     },
     "execution_count": 114,
     "metadata": {},
     "output_type": "execute_result"
    },
    {
     "data": {
      "image/png": "[encoded data removed]",
      "text/plain": [
       "<Figure size 640x480 with 1 Axes>"
      ]
     },
     "metadata": {},
     "output_type": "display_data"
    }
   ],
   "source": [
    "coef_df.loc[coef_df['modules'] == \"blue\", 'TRAB'].hist()"
   ]
  },
  {
   "cell_type": "code",
   "execution_count": 115,
   "id": "bearing-opening",
   "metadata": {},
   "outputs": [
    {
     "data": {
      "text/plain": [
       "<Axes: >"
      ]
     },
     "execution_count": 115,
     "metadata": {},
     "output_type": "execute_result"
    },
    {
     "data": {
      "image/png": "[encoded data removed]",
      "text/plain": [
       "<Figure size 640x480 with 1 Axes>"
      ]
     },
     "metadata": {},
     "output_type": "display_data"
    }
   ],
   "source": [
    "coef_df.loc[coef_df['modules'] == \"blue\", 'CD4N'].hist()"
   ]
  },
  {
   "cell_type": "code",
   "execution_count": 116,
   "id": "administrative-procedure",
   "metadata": {},
   "outputs": [
    {
     "data": {
      "text/plain": [
       "<Axes: >"
      ]
     },
     "execution_count": 116,
     "metadata": {},
     "output_type": "execute_result"
    },
    {
     "data": {
      "image/png": "[encoded data removed]",
      "text/plain": [
       "<Figure size 640x480 with 1 Axes>"
      ]
     },
     "metadata": {},
     "output_type": "display_data"
    }
   ],
   "source": [
    "coef_df.loc[coef_df['modules'] == \"black\", 'TRAB'].hist()"
   ]
  },
  {
   "cell_type": "code",
   "execution_count": 117,
   "id": "twenty-disaster",
   "metadata": {},
   "outputs": [
    {
     "data": {
      "text/plain": [
       "<Axes: >"
      ]
     },
     "execution_count": 117,
     "metadata": {},
     "output_type": "execute_result"
    },
    {
     "data": {
      "image/png": "[encoded data removed]",
      "text/plain": [
       "<Figure size 640x480 with 1 Axes>"
      ]
     },
     "metadata": {},
     "output_type": "display_data"
    }
   ],
   "source": [
    "coef_df.loc[coef_df['modules'] == \"black\", 'CD4N'].hist()"
   ]
  },
  {
   "cell_type": "code",
   "execution_count": 118,
   "id": "honest-average",
   "metadata": {},
   "outputs": [
    {
     "data": {
      "text/plain": [
       "<Axes: >"
      ]
     },
     "execution_count": 118,
     "metadata": {},
     "output_type": "execute_result"
    },
    {
     "data": {
      "image/png": "[encoded data removed]",
      "text/plain": [
       "<Figure size 640x480 with 1 Axes>"
      ]
     },
     "metadata": {},
     "output_type": "display_data"
    }
   ],
   "source": [
    "coef_df.loc[coef_df['modules'] == \"brown\", 'TRAB'].hist()"
   ]
  },
  {
   "cell_type": "code",
   "execution_count": 119,
   "id": "listed-novel",
   "metadata": {},
   "outputs": [
    {
     "data": {
      "text/plain": [
       "<Axes: >"
      ]
     },
     "execution_count": 119,
     "metadata": {},
     "output_type": "execute_result"
    },
    {
     "data": {
      "image/png": "[encoded data removed]",
      "text/plain": [
       "<Figure size 640x480 with 1 Axes>"
      ]
     },
     "metadata": {},
     "output_type": "display_data"
    }
   ],
   "source": [
    "coef_df.loc[coef_df['modules'] == \"brown\", 'CD4N'].hist()"
   ]
  },
  {
   "cell_type": "code",
   "execution_count": null,
   "id": "vital-chair",
   "metadata": {},
   "outputs": [],
   "source": []
  }
 ],
 "metadata": {
  "kernelspec": {
   "display_name": "Python 3 (gokul_env)",
   "language": "python",
   "name": "gokul_env"
  },
  "language_info": {
   "codemirror_mode": {
    "name": "ipython",
    "version": 3
   },
   "file_extension": ".py",
   "mimetype": "text/x-python",
   "name": "python",
   "nbconvert_exporter": "python",
   "pygments_lexer": "ipython3",
   "version": "3.12.5"
  }
 },
 "nbformat": 4,
 "nbformat_minor": 5
}
